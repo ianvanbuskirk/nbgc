{
 "cells": [
  {
   "cell_type": "code",
   "execution_count": null,
   "metadata": {},
   "outputs": [],
   "source": [
    "import os\n",
    "import subprocess\n",
    "\n",
    "import json\n",
    "import pandas as pd\n",
    "import numpy as np"
   ]
  },
  {
   "cell_type": "code",
   "execution_count": null,
   "metadata": {},
   "outputs": [],
   "source": [
    "# ensure data is downloaded and available. Be mindful that source_data is 3.3GB unzipped\n",
    "if 'source_data' not in os.listdir('../'):\n",
    "    subprocess.run(['osf', '-p', 'tz38q', 'fetch', 'source_data.zip'], cwd=\"../\")\n",
    "    subprocess.run(['unzip', 'source_data.zip'], cwd=\"../\")\n",
    "    subprocess.run(['rm', 'source_data.zip'], cwd=\"../\")\n",
    "    \n",
    "# create name_data directory if necessary\n",
    "constructed_resource_path = '../name_data/'\n",
    "if 'name_data' not in os.listdir('../'):\n",
    "    os.mkdir(constructed_resource_path)"
   ]
  },
  {
   "cell_type": "code",
   "execution_count": null,
   "metadata": {},
   "outputs": [],
   "source": [
    "sources = sorted([ns for ns in os.listdir('../source_data') if 'NS' in ns])"
   ]
  },
  {
   "cell_type": "markdown",
   "metadata": {},
   "source": [
    "## 1. fine-grained name-gender data"
   ]
  },
  {
   "cell_type": "code",
   "execution_count": null,
   "metadata": {},
   "outputs": [],
   "source": [
    "# load and combine all data sources\n",
    "all_data = np.vstack([pd.read_csv('../source_data/'+ns+'/'+ns+'.csv',\n",
    "                                  keep_default_na=False).values\n",
    "                for ns in sources])\n",
    "\n",
    "df = pd.DataFrame(all_data,columns = ['tag','ascii','ns','country','year','dtype','value','adjustment','utf'])\n",
    "\n",
    "# remove problematic strings\n",
    "drop_names = ([x for x in set(df['ascii'].values) if '.' in x] + \n",
    "              [x for x in set(df['ascii'].values) if len(x) < 2])\n",
    "\n",
    "gdf = df.loc[~df['ascii'].isin(drop_names)].copy()\n",
    "gdf['ascii'] = [n.strip() for n in gdf['ascii'].values]\n",
    "\n",
    "# save fine-grained_name-gender_data\n",
    "gdf.to_csv(constructed_resource_path+'fine-grained_name-gender_data.csv',index=False)"
   ]
  },
  {
   "cell_type": "markdown",
   "metadata": {},
   "source": [
    "## 2. source-aggregated name-gender associations"
   ]
  },
  {
   "cell_type": "code",
   "execution_count": null,
   "metadata": {},
   "outputs": [],
   "source": [
    "all_dict = {s:{} for s in set(gdf['ascii'])}\n",
    "for row in gdf.values:\n",
    "    append = row[2] in all_dict[row[1]].keys()\n",
    "    if row[0] == '-':\n",
    "        d = {'m':(100 - row[6])*row[7],'f':row[6]*row[7]}\n",
    "    elif row[0] == 'f':\n",
    "        d = {'m':0,'f':row[6]*row[7]}\n",
    "    else:\n",
    "        d = {'m':row[6]*row[7],'f':0}\n",
    "        \n",
    "    if append:\n",
    "        all_dict[row[1]][row[2]]['m'] += d['m']\n",
    "        all_dict[row[1]][row[2]]['f'] += d['f']\n",
    "    else:\n",
    "        all_dict[row[1]][row[2]] = d\n",
    "        \n",
    "# save source-aggregated_name-gender_associations\n",
    "json.dump(all_dict,open(constructed_resource_path+'source-aggregated_name-gender_associations.json','w'))"
   ]
  },
  {
   "cell_type": "markdown",
   "metadata": {},
   "source": [
    "## 3. averaged name-gender estimates"
   ]
  },
  {
   "cell_type": "code",
   "execution_count": null,
   "metadata": {},
   "outputs": [],
   "source": [
    "count_sources = [ns for ns,v in pd.DataFrame(gdf.groupby('ns')['tag'].unique()).iterrows() if '-' not in v.values[0]]"
   ]
  },
  {
   "cell_type": "code",
   "execution_count": null,
   "metadata": {},
   "outputs": [],
   "source": [
    "all_ratios = {}\n",
    "for n,p in all_dict.items():\n",
    "    n_count = 0\n",
    "    n_sources = 0\n",
    "    estimates = []\n",
    "    for s,v in p.items():\n",
    "        n_sources += 1\n",
    "        total = v['m']+v['f']\n",
    "        if s in count_sources:\n",
    "            n_count += total\n",
    "        estimates.append(v['f']/total)\n",
    "    all_ratios[n] = {'N_sources':n_sources, 'M_counts':n_count, 'AVG_estimate':np.mean(estimates)}\n",
    "    \n",
    "# save averaged_name-gender_estimates\n",
    "json.dump(all_ratios,open(constructed_resource_path+'averaged_name-gender_estimates.json','w'))"
   ]
  },
  {
   "cell_type": "markdown",
   "metadata": {},
   "source": [
    "### light version of above dictionary (for nqg package)"
   ]
  },
  {
   "cell_type": "code",
   "execution_count": null,
   "metadata": {},
   "outputs": [],
   "source": [
    "nqg_data = {k:[int(v['N_sources']),\n",
    "               int(v['M_counts']),\n",
    "            np.round(v['AVG_estimate'],3)] for k,v in sorted(all_ratios.items(),\n",
    "                                                             key = lambda x:x[0])}\n",
    "\n",
    "json.dump(nqg_data,open(constructed_resource_path+'nqg_data.json','w'))"
   ]
  }
 ],
 "metadata": {
  "kernelspec": {
   "display_name": "nbgc",
   "language": "python",
   "name": "nbgc"
  },
  "language_info": {
   "codemirror_mode": {
    "name": "ipython",
    "version": 3
   },
   "file_extension": ".py",
   "mimetype": "text/x-python",
   "name": "python",
   "nbconvert_exporter": "python",
   "pygments_lexer": "ipython3",
   "version": "3.7.3"
  }
 },
 "nbformat": 4,
 "nbformat_minor": 4
}
