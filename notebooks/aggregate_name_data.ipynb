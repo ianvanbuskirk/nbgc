{
 "cells": [
  {
   "cell_type": "code",
   "execution_count": null,
   "metadata": {},
   "outputs": [],
   "source": [
    "import os\n",
    "import subprocess\n",
    "\n",
    "import json\n",
    "import pandas as pd\n",
    "import numpy as np\n",
    "from collections import defaultdict\n",
    "import re"
   ]
  },
  {
   "cell_type": "code",
   "execution_count": null,
   "metadata": {},
   "outputs": [],
   "source": [
    "# ensure data is downloaded and available\n",
    "if 'name_data' not in os.listdir('../'):\n",
    "    os.mkdir('../name_data')\n",
    "    \n",
    "def download_if_necessary(folder, file):\n",
    "    if file not in os.listdir('../%s'%folder):\n",
    "        subprocess.run(['osf', '-p', 'tz38q', 'fetch', \n",
    "                        '%s/%s'%(folder, file), '%s/%s'%(folder, file)], cwd=\"../\")"
   ]
  },
  {
   "cell_type": "code",
   "execution_count": null,
   "metadata": {},
   "outputs": [],
   "source": [
    "# load data\n",
    "download_if_necessary('name_data', 'fine-grained_name-gender_data.csv')\n",
    "df = pd.read_csv('../name_data/fine-grained_name-gender_data.csv',keep_default_na=False, dtype={'year': str})"
   ]
  },
  {
   "cell_type": "code",
   "execution_count": null,
   "metadata": {},
   "outputs": [],
   "source": [
    "# add features to data\n",
    "\n",
    "df['count'] = df['value']*df['adjustment']\n",
    "df['estimate'] = df['value']*df['adjustment']\n",
    "\n",
    "df.loc[df['dtype'].isin(['d','s']),'count'] = np.nan\n",
    "df.loc[df['dtype'].isin(['d','s']),'estimate'] = df['value'] / 100.\n",
    "\n",
    "df['decade'] = 'XXXX'\n",
    "df.loc[df['year'] != 'XXXX','decade'] = [str(1925 + 10*((int(year) - 1920)//10)) if \n",
    "                                        (int(year) < 2010 and int(year) >= 1920) else 'XXXX'\n",
    "                                         for year in df.loc[df['year'] != 'XXXX','year'].values]\n",
    "\n",
    "df['ns_dtype'] = [str(x).zfill(2)+y for x,y in df[['ns','dtype']].values]"
   ]
  },
  {
   "cell_type": "markdown",
   "metadata": {},
   "source": [
    "## low level grouping"
   ]
  },
  {
   "cell_type": "code",
   "execution_count": null,
   "metadata": {},
   "outputs": [],
   "source": [
    "all_names = sorted(df['ascii'].unique())\n",
    "source_counts = df.groupby('ns_dtype')['count'].sum().to_dict()"
   ]
  },
  {
   "cell_type": "code",
   "execution_count": null,
   "metadata": {
    "scrolled": true
   },
   "outputs": [],
   "source": [
    "# group data\n",
    "name_groups = {n:{} for n in all_names}\n",
    "for v in df.values:\n",
    "    tag, name, estimate = v[[0,1,10]]\n",
    "    key = '_'.join(v[[12,3,11]]) # ns_dtype, country, decade\n",
    "\n",
    "    if key not in name_groups[name]:\n",
    "        name_groups[name][key] = {'m':[0],'f':[0],'-':[]}\n",
    "    \n",
    "    name_groups[name][key][tag].append(estimate)"
   ]
  },
  {
   "cell_type": "code",
   "execution_count": null,
   "metadata": {
    "scrolled": true
   },
   "outputs": [],
   "source": [
    "# compute estimates, counts, and popularity (percent) for group level data\n",
    "re_count_data = re.compile(\"\\d{2}[ab].*\")\n",
    "name_preds = {n:[] for n in all_names}\n",
    "for name,groups in name_groups.items():\n",
    "    for group,data in groups.items():\n",
    "        source = group.split('_')[0]\n",
    "        if re_count_data.match(source): # for count data\n",
    "            f = sum(data['f'])\n",
    "            m = sum(data['m'])\n",
    "            count = f+m\n",
    "            estimate = f/(count)\n",
    "            percent = count/source_counts[source]\n",
    "        else: # for score, dict data\n",
    "            estimate = np.mean(data['-'])\n",
    "            count = len(data['-'])\n",
    "            percent = np.nan\n",
    "        name_preds[name].append([group,estimate,percent,count])"
   ]
  },
  {
   "cell_type": "markdown",
   "metadata": {},
   "source": [
    "## aggregate by country and decade"
   ]
  },
  {
   "cell_type": "code",
   "execution_count": null,
   "metadata": {},
   "outputs": [],
   "source": [
    "def make_key(i,j):\n",
    "    if i == 'c':\n",
    "        return j.split('_')[1]\n",
    "    elif i == 'd':\n",
    "        return j.split('_')[2]\n",
    "    else:\n",
    "        return '-'\n",
    "\n",
    "\n",
    "def compute_average(key, estimates_pops_counts):\n",
    "    estimates, pops, counts = estimates_pops_counts.T\n",
    "\n",
    "    weights = pops/pops.sum()\n",
    "    return np.dot(estimates,weights), pops.sum(), counts.sum()\n",
    "\n",
    "\n",
    "def compute_estimates(preds, keys = ['c', 'd']):\n",
    "    dic = {k:defaultdict(list) for k in keys}\n",
    "    for pred in preds:\n",
    "        x = [pred[1],pred[2],pred[3]]\n",
    "        if re_count_data.match(pred[0]):\n",
    "            for k in keys:\n",
    "                dic[k][make_key(k,pred[0])].append(x)\n",
    "\n",
    "    dic_estimates = {i:{k:\n",
    "                    compute_average(k, np.array(v)) for k,v in j.items()}\n",
    "                    for i,j in dic.items()}\n",
    "    return(dic_estimates)"
   ]
  },
  {
   "cell_type": "code",
   "execution_count": null,
   "metadata": {},
   "outputs": [],
   "source": [
    "name_estimates = {}\n",
    "for n in all_names:\n",
    "    estimate = compute_estimates(name_preds[n])\n",
    "    for k in ['c', 'd']:\n",
    "        if len(estimate[k]) > 0:\n",
    "            name_estimates[n] = estimate\n",
    "            break"
   ]
  },
  {
   "cell_type": "code",
   "execution_count": null,
   "metadata": {},
   "outputs": [],
   "source": [
    "# save country and decade aggregated estimates\n",
    "if 'replication_data' not in os.listdir('../'):\n",
    "    os.mkdir('../replication_data')\n",
    "\n",
    "json.dump(name_estimates,\n",
    "          open('../replication_data/country-decade-aggregated_estimates.json','w'))"
   ]
  }
 ],
 "metadata": {
  "kernelspec": {
   "display_name": "anonymized_gender_rep",
   "language": "python",
   "name": "anonymized_gender_rep"
  },
  "language_info": {
   "codemirror_mode": {
    "name": "ipython",
    "version": 3
   },
   "file_extension": ".py",
   "mimetype": "text/x-python",
   "name": "python",
   "nbconvert_exporter": "python",
   "pygments_lexer": "ipython3",
   "version": "3.7.3"
  }
 },
 "nbformat": 4,
 "nbformat_minor": 4
}
